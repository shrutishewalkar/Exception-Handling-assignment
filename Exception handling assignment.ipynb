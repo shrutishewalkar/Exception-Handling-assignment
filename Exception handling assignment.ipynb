{
 "cells": [
  {
   "cell_type": "code",
   "execution_count": 2,
   "id": "57c76cd8-639f-4822-9f4c-53c60a922155",
   "metadata": {},
   "outputs": [],
   "source": [
    "import logging\n",
    "\n",
    "logging.basicConfig(filename = 'mylogs.log', level = logging.INFO, format = '%(asctime)s %(message)s')"
   ]
  },
  {
   "cell_type": "markdown",
   "id": "661c7edd-4195-4f72-848b-6f15384df49f",
   "metadata": {},
   "source": [
    "Q1 What is Exception in Python? Write the difference between Exception and Syntax errors.\n",
    "\n"
   ]
  },
  {
   "cell_type": "markdown",
   "id": "9a24f5a0-2c92-442a-bae8-a3e9eb1dde22",
   "metadata": {},
   "source": [
    "Ans: In Python, an exception is an event that occurs during the execution of a program that disrupts the normal flow of the program's instructions. Exceptions are used to handle runtime errors and unexpected situations that can arise in a program. They provide a way to catch and handle errors in a program in a structured and organized way.\n",
    "\n",
    "Syntax errors, on the other hand, are errors in the syntax of the code that prevent the code from being executed. They occur when the code is written in a way that does not conform to the rules of the Python language. Syntax errors are usually caught by the Python interpreter when the code is being parsed, before it is executed.\n",
    "\n",
    "The key difference between exceptions and syntax errors is that exceptions occur during the execution of a program, while syntax errors occur before the execution of a program, when the code is being parsed by the interpreter. Exceptions can be handled and recovered from, while syntax errors need to be fixed before the code can be executed."
   ]
  },
  {
   "cell_type": "markdown",
   "id": "76823681-3c5b-4041-a832-efc3dae46d2d",
   "metadata": {},
   "source": [
    "Q2 What happens when an exception is not handled? Explain with an example.\n",
    "\n"
   ]
  },
  {
   "cell_type": "markdown",
   "id": "e20d5f93-1f5f-46cd-8803-440758b667bf",
   "metadata": {},
   "source": [
    "Ans: When an exception is not handled, the program will terminate and an error message will be displayed to the user. The error message will contain the type of exception that was raised, along with a stack trace that shows the sequence of function calls that led to the exception.\n",
    "\n",
    "The stack trace provides information about where in the code the exception was raised and can help in identifying the cause of the problem. However, if the exception is not handled, the program will not be able to continue executing and the user will not be able to recover from the error.\n",
    "\n",
    "In some cases, an unhandled exception can also lead to data corruption, memory leaks, and other problems that can negatively impact the stability and reliability of the program."
   ]
  },
  {
   "cell_type": "markdown",
   "id": "73982db9-e0b9-4f88-be17-966de0ac70d7",
   "metadata": {},
   "source": [
    "Q3 Which Python statements are used to catch and handle exceptions? Explain with an example.\n",
    "\n"
   ]
  },
  {
   "cell_type": "markdown",
   "id": "8be0b518-5590-4c62-9a24-862733ecacb7",
   "metadata": {},
   "source": [
    "Ans: In Python, the try and except statements are used to catch and handle exceptions. The basic structure of a try-except statement is as follows:"
   ]
  },
  {
   "cell_type": "code",
   "execution_count": 3,
   "id": "7cc5057a-f633-481d-8e6e-15053fe85502",
   "metadata": {},
   "outputs": [],
   "source": [
    "try:\n",
    "    pass\n",
    "    # code that might raise an exception\n",
    "except ExceptionType:\n",
    "    pass\n",
    "    # code to handle the exception"
   ]
  },
  {
   "cell_type": "markdown",
   "id": "d712a4de-2c3e-45e0-9ed5-983362ed25d1",
   "metadata": {},
   "source": [
    "The code that might raise an exception is placed inside the try block, and the code to handle the exception is placed inside the except block. The ExceptionType in the except clause specifies the type of exception that is being caught. If an exception of that type is raised in the try block, the code in the except block will be executed."
   ]
  },
  {
   "cell_type": "markdown",
   "id": "4b2723ef-ad49-4b39-95ff-4171c5c493c8",
   "metadata": {},
   "source": [
    "Q4 Explain the following with examples:\n",
    "\n",
    "1. try and else\n",
    "2. finally\n",
    "3. raise"
   ]
  },
  {
   "cell_type": "markdown",
   "id": "e1aae4e1-e589-427f-99de-3f6ddda7c78d",
   "metadata": {},
   "source": [
    "Ans"
   ]
  },
  {
   "cell_type": "markdown",
   "id": "a5ae5461-7ed8-4a6f-809b-20bcb4d85057",
   "metadata": {},
   "source": [
    "try and else:"
   ]
  },
  {
   "cell_type": "markdown",
   "id": "55410027-9c96-4e43-b941-de52ae244c7f",
   "metadata": {},
   "source": [
    "The try holds the code that might raise an exception/error.\n",
    "The else block of code is executed if no errors were raised"
   ]
  },
  {
   "cell_type": "code",
   "execution_count": 4,
   "id": "787cdeda-c0c1-4563-a548-dcb54a006b60",
   "metadata": {},
   "outputs": [
    {
     "name": "stdout",
     "output_type": "stream",
     "text": [
      "This executed because no errors were raise\n"
     ]
    }
   ],
   "source": [
    "try:\n",
    "    logging.info('Division of value')\n",
    "    x = 1 / 1\n",
    "except:\n",
    "    logging.warning('Caught Exception, Handling..')\n",
    "    print(\"This executed because errors were raised\")\n",
    "else:\n",
    "    print(\"This executed because no errors were raise\")"
   ]
  },
  {
   "cell_type": "markdown",
   "id": "34ef5d5e-9313-405c-9028-0aa61aab59b1",
   "metadata": {},
   "source": [
    "finally"
   ]
  },
  {
   "cell_type": "markdown",
   "id": "4813ac8e-14ee-4d7e-a12d-fe94066a78e9",
   "metadata": {},
   "source": [
    "The finally block lets you execute code, regardless of the result of the try- and except blocks."
   ]
  },
  {
   "cell_type": "code",
   "execution_count": 6,
   "id": "ad006e74-af68-4136-97d4-e610bb0f5176",
   "metadata": {},
   "outputs": [
    {
     "name": "stdout",
     "output_type": "stream",
     "text": [
      "This executed because errors were raised\n",
      "This executes regardless\n"
     ]
    }
   ],
   "source": [
    "try: \n",
    "    logging.info('Division of value')\n",
    "    x = 1/0\n",
    "except:\n",
    "    logging.warning('Caught Exception, Handling..')\n",
    "    print(\"This executed because errors were raised\")\n",
    "else:\n",
    "    print(\"This executed because no errors were raise\")\n",
    "finally:\n",
    "    print(\"This executes regardless\")"
   ]
  },
  {
   "cell_type": "markdown",
   "id": "61a6b83e-040f-4e63-b03e-7cc0f28439f4",
   "metadata": {},
   "source": [
    "raise"
   ]
  },
  {
   "cell_type": "markdown",
   "id": "6bc89ac9-c488-41f9-b2e4-7e370bb8ce52",
   "metadata": {},
   "source": [
    "The raise keyword is used to raise an exception.\n",
    "You can define what kind of error to raise, and the text to print to the user."
   ]
  },
  {
   "cell_type": "code",
   "execution_count": 7,
   "id": "1df7a1b6-5e7b-4d17-89f7-c4710366ec10",
   "metadata": {},
   "outputs": [
    {
     "ename": "Exception",
     "evalue": "Sorry, no numbers below zero",
     "output_type": "error",
     "traceback": [
      "\u001b[0;31m---------------------------------------------------------------------------\u001b[0m",
      "\u001b[0;31mException\u001b[0m                                 Traceback (most recent call last)",
      "Cell \u001b[0;32mIn[7], line 6\u001b[0m\n\u001b[1;32m      4\u001b[0m \u001b[38;5;28;01mif\u001b[39;00m x \u001b[38;5;241m<\u001b[39m \u001b[38;5;241m0\u001b[39m:\n\u001b[1;32m      5\u001b[0m     logging\u001b[38;5;241m.\u001b[39merror(\u001b[38;5;124m'\u001b[39m\u001b[38;5;124mRaising exception\u001b[39m\u001b[38;5;124m'\u001b[39m)\n\u001b[0;32m----> 6\u001b[0m     \u001b[38;5;28;01mraise\u001b[39;00m \u001b[38;5;167;01mException\u001b[39;00m(\u001b[38;5;124m\"\u001b[39m\u001b[38;5;124mSorry, no numbers below zero\u001b[39m\u001b[38;5;124m\"\u001b[39m)\n",
      "\u001b[0;31mException\u001b[0m: Sorry, no numbers below zero"
     ]
    }
   ],
   "source": [
    "#raising exception\n",
    "x = -1\n",
    "\n",
    "if x < 0:\n",
    "    logging.error('Raising exception')\n",
    "    raise Exception(\"Sorry, no numbers below zero\")"
   ]
  },
  {
   "cell_type": "code",
   "execution_count": 8,
   "id": "a6b1cf88-947f-4c20-a8f8-a064ec04e8fa",
   "metadata": {},
   "outputs": [
    {
     "ename": "TypeError",
     "evalue": "Only integers are allowed",
     "output_type": "error",
     "traceback": [
      "\u001b[0;31m---------------------------------------------------------------------------\u001b[0m",
      "\u001b[0;31mTypeError\u001b[0m                                 Traceback (most recent call last)",
      "Cell \u001b[0;32mIn[8], line 6\u001b[0m\n\u001b[1;32m      4\u001b[0m \u001b[38;5;28;01mif\u001b[39;00m \u001b[38;5;129;01mnot\u001b[39;00m \u001b[38;5;28mtype\u001b[39m(x) \u001b[38;5;129;01mis\u001b[39;00m \u001b[38;5;28mint\u001b[39m:\n\u001b[1;32m      5\u001b[0m     logging\u001b[38;5;241m.\u001b[39merror(\u001b[38;5;124m'\u001b[39m\u001b[38;5;124mRaising error\u001b[39m\u001b[38;5;124m'\u001b[39m)\n\u001b[0;32m----> 6\u001b[0m     \u001b[38;5;28;01mraise\u001b[39;00m \u001b[38;5;167;01mTypeError\u001b[39;00m(\u001b[38;5;124m\"\u001b[39m\u001b[38;5;124mOnly integers are allowed\u001b[39m\u001b[38;5;124m\"\u001b[39m)\n",
      "\u001b[0;31mTypeError\u001b[0m: Only integers are allowed"
     ]
    }
   ],
   "source": [
    "#raising error\n",
    "x = \"hello\"\n",
    "\n",
    "if not type(x) is int:\n",
    "    logging.error('Raising error')\n",
    "    raise TypeError(\"Only integers are allowed\")"
   ]
  },
  {
   "cell_type": "markdown",
   "id": "9cfe3270-f79a-42af-833a-fd5469e7a9f4",
   "metadata": {},
   "source": [
    "Q5 What are Custom Exceptions in Pyton? Why do we need custom exceptions? Explain with an example."
   ]
  },
  {
   "cell_type": "markdown",
   "id": "011f4037-2632-4be7-84de-fa7f6c14778f",
   "metadata": {},
   "source": [
    "Ans: Custom Exceptions are user-defined exceptions that can be raised and caught in a program. Custom exceptions are created by creating a new class that inherits from the built-in Exception class.\n",
    "\n",
    "We need custom exceptions in a program for several reasons:\n",
    "\n",
    "1. Improved error handling: By defining custom exceptions, we can provide more meaningful error messages that are specific to our application, making it easier to diagnose and fix problems.\n",
    "2. Better organization: Custom exceptions allow us to categorize and group errors in our code into different types, making it easier to understand the structure of our error handling logic.\n",
    "3. Code reuse: Custom exceptions can be reused across multiple parts of our code, making it easier to maintain a consistent error handling strategy throughout our application"
   ]
  },
  {
   "cell_type": "markdown",
   "id": "d4006b21-37f4-4706-95b9-85718592b6f3",
   "metadata": {},
   "source": [
    "Q6 Create a custom exception class. Use this class to handle an exception."
   ]
  },
  {
   "cell_type": "code",
   "execution_count": 9,
   "id": "6c389baf-d374-4584-984a-a6b94aa09736",
   "metadata": {},
   "outputs": [],
   "source": [
    "class notvalidID(Exception):\n",
    "    def __init__(self,error):\n",
    "        self.error = error\n",
    "\n",
    "def checkifIDvalid(id):\n",
    "    logging.info('Checking ID Validation..')\n",
    "    if len(id)!=10:\n",
    "        logging.error(\"Invalid ID length\")\n",
    "        raise notvalidID('Invalid ID, ID length should be exactly 10 characters long')\n",
    "    else:\n",
    "        logging.info('Valid ID')\n",
    "        print(\"Valid ID\")"
   ]
  },
  {
   "cell_type": "code",
   "execution_count": null,
   "id": "734fae51-f06b-4249-a128-01bf2607d462",
   "metadata": {},
   "outputs": [],
   "source": [
    "try:\n",
    "    id = input('Enter your ID: ')\n",
    "    checkifIDvalid(id)\n",
    "except notvalidID as e:\n",
    "    print(e)\n",
    "#Entered ID: 4585221"
   ]
  },
  {
   "cell_type": "code",
   "execution_count": null,
   "id": "cafbeb25-b123-428e-9268-cb7d461195cb",
   "metadata": {},
   "outputs": [],
   "source": []
  }
 ],
 "metadata": {
  "kernelspec": {
   "display_name": "Python 3 (ipykernel)",
   "language": "python",
   "name": "python3"
  },
  "language_info": {
   "codemirror_mode": {
    "name": "ipython",
    "version": 3
   },
   "file_extension": ".py",
   "mimetype": "text/x-python",
   "name": "python",
   "nbconvert_exporter": "python",
   "pygments_lexer": "ipython3",
   "version": "3.10.8"
  }
 },
 "nbformat": 4,
 "nbformat_minor": 5
}
